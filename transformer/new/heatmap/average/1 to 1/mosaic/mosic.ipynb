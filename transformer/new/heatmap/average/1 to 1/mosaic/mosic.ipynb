{
 "cells": [
  {
   "cell_type": "code",
   "execution_count": null,
   "metadata": {
    "vscode": {
     "languageId": "plaintext"
    }
   },
   "outputs": [],
   "source": [
    "from PIL import Image\n",
    "import os\n",
    "\n",
    "# 이미지들이 저장된 디렉토리\n",
    "image_dir = 'your_image_directory'  # 여기에 이미지가 있는 폴더 경로를 입력하세요\n",
    "output_image_path = 'mosaic_output.png'\n",
    "\n",
    "# 이미지 파일 목록 가져오기\n",
    "image_files = [os.path.join(image_dir, f) for f in os.listdir(image_dir) if f.endswith('.png')]\n",
    "\n",
    "# 이미지 설정\n",
    "rows = 10  # 행의 수\n",
    "cols = 10  # 열의 수\n",
    "thumbnail_size = (100, 100)  # 각 이미지 크기\n",
    "\n",
    "# 모자이크 이미지 크기 계산\n",
    "mosaic_width = cols * thumbnail_size[0]\n",
    "mosaic_height = rows * thumbnail_size[1]\n",
    "\n",
    "# 빈 캔버스 생성\n",
    "mosaic_image = Image.new('RGB', (mosaic_width, mosaic_height))\n",
    "\n",
    "# 이미지 배열하기\n",
    "for i, image_file in enumerate(image_files[:rows*cols]):  # 필요한 개수만큼 이미지를 가져옴\n",
    "    img = Image.open(image_file)\n",
    "    img.thumbnail(thumbnail_size)  # 이미지 크기를 썸네일 크기로 조정\n",
    "    x_offset = (i % cols) * thumbnail_size[0]\n",
    "    y_offset = (i // cols) * thumbnail_size[1]\n",
    "    mosaic_image.paste(img, (x_offset, y_offset))\n",
    "\n",
    "# 결과 이미지 저장\n",
    "mosaic_image.save(output_image_path)\n",
    "print(f\"모자이크 이미지가 '{output_image_path}'로 저장되었습니다.\")"
   ]
  }
 ],
 "metadata": {
  "kernelspec": {
   "display_name": "solar",
   "language": "python",
   "name": "python3"
  },
  "language_info": {
   "codemirror_mode": {
    "name": "ipython",
    "version": 3
   },
   "file_extension": ".py",
   "mimetype": "text/x-python",
   "name": "python",
   "nbconvert_exporter": "python",
   "pygments_lexer": "ipython3",
   "version": "3.8.18"
  }
 },
 "nbformat": 4,
 "nbformat_minor": 2
}
