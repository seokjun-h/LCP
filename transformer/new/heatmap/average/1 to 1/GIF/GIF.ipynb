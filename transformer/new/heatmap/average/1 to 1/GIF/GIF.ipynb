{
 "cells": [
  {
   "cell_type": "code",
   "execution_count": 6,
   "metadata": {},
   "outputs": [
    {
     "name": "stderr",
     "output_type": "stream",
     "text": [
      "/tmp/ipykernel_156987/2113678753.py:21: DeprecationWarning: Starting with ImageIO v3 the behavior of this function will switch to that of iio.v3.imread. To keep the current behavior (and make this warning disappear) use `import imageio.v2 as imageio` or call `imageio.v2.imread` directly.\n",
      "  image = imageio.imread(image_file)\n"
     ]
    },
    {
     "name": "stdout",
     "output_type": "stream",
     "text": [
      "GIF가 '185.gif'로 저장되었습니다.\n"
     ]
    }
   ],
   "source": [
    "import imageio\n",
    "import os\n",
    "import re\n",
    "\n",
    "sequence_id = 185\n",
    "image_dir = f'/home/aibig25/hong_sj/trb/transformer/new/heatmap/average/1 to 1/{sequence_id}'  # 여기에 이미지가 있는 폴더 경로를 입력하세요\n",
    "output_gif = f'{sequence_id}.gif'  # 저장할 GIF 파일 이름\n",
    "\n",
    "# 숫자 추출을 위한 함수 정의\n",
    "def extract_number(file_name):\n",
    "    match = re.search(r'input_(\\d+)', file_name)\n",
    "    return int(match.group(1)) if match else -1\n",
    "\n",
    "# 이미지 파일 목록 가져오기 및 숫자 순으로 정렬\n",
    "image_files = [os.path.join(image_dir, f) for f in os.listdir(image_dir) if f.endswith('.png')]\n",
    "image_files_sorted = sorted(image_files, key=lambda x: extract_number(x))\n",
    "\n",
    "# 이미지들을 GIF로 만들기\n",
    "with imageio.get_writer(output_gif, mode='I', duration=0.5) as writer:  # duration: 프레임 간 시간 (초)\n",
    "    for image_file in image_files_sorted:\n",
    "        image = imageio.imread(image_file)\n",
    "        writer.append_data(image)\n",
    "\n",
    "print(f\"GIF가 '{output_gif}'로 저장되었습니다.\")"
   ]
  }
 ],
 "metadata": {
  "kernelspec": {
   "display_name": "solar",
   "language": "python",
   "name": "python3"
  },
  "language_info": {
   "codemirror_mode": {
    "name": "ipython",
    "version": 3
   },
   "file_extension": ".py",
   "mimetype": "text/x-python",
   "name": "python",
   "nbconvert_exporter": "python",
   "pygments_lexer": "ipython3",
   "version": "3.8.18"
  }
 },
 "nbformat": 4,
 "nbformat_minor": 2
}
