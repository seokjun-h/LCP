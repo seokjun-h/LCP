{
 "cells": [
  {
   "cell_type": "code",
   "execution_count": 11,
   "metadata": {},
   "outputs": [],
   "source": [
    "import pandas as pd\n",
    "import numpy as np\n",
    "from sklearn.model_selection import train_test_split\n",
    "from sklearn.preprocessing import MinMaxScaler\n",
    "import torch\n",
    "from torch.utils.data import Dataset, DataLoader\n",
    "from torch import nn\n",
    "from torch.optim import Adam\n",
    "import random\n",
    "import matplotlib.pyplot as plt\n",
    "import torch\n",
    "import torch.nn as nn\n",
    "import torch.optim as optim\n",
    "import tensorflow as tf\n",
    "import math\n",
    "from torch.utils.data import TensorDataset, DataLoader\n",
    "\n",
    "# 시드 고정\n",
    "def set_seed(seed):\n",
    "    torch.manual_seed(seed)\n",
    "    torch.cuda.manual_seed(seed)\n",
    "    torch.cuda.manual_seed_all(seed)  # if you are using multi-GPU.\n",
    "    np.random.seed(seed)\n",
    "    random.seed(seed)\n",
    "    torch.backends.cudnn.benchmark = False\n",
    "    torch.backends.cudnn.deterministic = True\n",
    "\n",
    "set_seed(42)"
   ]
  },
  {
   "cell_type": "code",
   "execution_count": 12,
   "metadata": {},
   "outputs": [
    {
     "name": "stderr",
     "output_type": "stream",
     "text": [
      "/tmp/ipykernel_123910/3224682186.py:14: SettingWithCopyWarning: \n",
      "A value is trying to be set on a copy of a slice from a DataFrame.\n",
      "Try using .loc[row_indexer,col_indexer] = value instead\n",
      "\n",
      "See the caveats in the documentation: https://pandas.pydata.org/pandas-docs/stable/user_guide/indexing.html#returning-a-view-versus-a-copy\n",
      "  train_data[independent_vars] = scaler.fit_transform(train_data[independent_vars])\n",
      "/tmp/ipykernel_123910/3224682186.py:15: SettingWithCopyWarning: \n",
      "A value is trying to be set on a copy of a slice from a DataFrame.\n",
      "Try using .loc[row_indexer,col_indexer] = value instead\n",
      "\n",
      "See the caveats in the documentation: https://pandas.pydata.org/pandas-docs/stable/user_guide/indexing.html#returning-a-view-versus-a-copy\n",
      "  test_data[independent_vars] = scaler.transform(test_data[independent_vars])\n"
     ]
    }
   ],
   "source": [
    "data = pd.read_csv('/home/aibig25/hong_sj/trb/num.csv')\n",
    "data = data.fillna(0)\n",
    "\n",
    "unique_ids = data['sequence_ID'].unique()\n",
    "train_ids, test_ids = train_test_split(unique_ids, test_size=41, random_state=42)\n",
    "train_data = data[data['sequence_ID'].isin(train_ids)]\n",
    "test_data = data[data['sequence_ID'].isin(test_ids)]\n",
    "\n",
    "independent_vars = data.columns.difference(['center_x', 'center_y','center_x_ma','center_y_ma', 'ID', 'LC'])\n",
    "dependent_vars = ['center_y_ma']\n",
    "\n",
    "scaler = MinMaxScaler()\n",
    "\n",
    "train_data[independent_vars] = scaler.fit_transform(train_data[independent_vars])\n",
    "test_data[independent_vars] = scaler.transform(test_data[independent_vars])\n",
    "\n",
    "X_train = train_data[independent_vars]\n",
    "y_train = train_data[dependent_vars]\n",
    "\n",
    "X_test = test_data[independent_vars]\n",
    "y_test = test_data[dependent_vars]"
   ]
  },
  {
   "cell_type": "code",
   "execution_count": 13,
   "metadata": {},
   "outputs": [],
   "source": [
    "# 입력 및 예측 시퀀스 길이 정의\n",
    "input_sequence_length = 30\n",
    "output_sequence_length = 30\n",
    "\n",
    "def create_sequences(data, input_sequence_length, output_sequence_length):\n",
    "    X = []\n",
    "    y = []\n",
    "\n",
    "    for i in range(len(data) - input_sequence_length - output_sequence_length + 1):\n",
    "        X.append(data.iloc[i:(i + input_sequence_length)][independent_vars].values)\n",
    "        y.append(data.iloc[(i + input_sequence_length):(i + input_sequence_length + output_sequence_length)][dependent_vars].values)\n",
    "    \n",
    "    return np.array(X), np.array(y)\n",
    "\n",
    "X_train, y_train = create_sequences(train_data, input_sequence_length, output_sequence_length)\n",
    "X_test, y_test = create_sequences(test_data, input_sequence_length, output_sequence_length)"
   ]
  },
  {
   "cell_type": "code",
   "execution_count": 14,
   "metadata": {},
   "outputs": [],
   "source": [
    "# 데이터셋을 텐서로 변환\n",
    "train_dataset = TensorDataset(torch.tensor(X_train, dtype=torch.float32), torch.tensor(y_train, dtype=torch.float32))\n",
    "test_dataset = TensorDataset(torch.tensor(X_test, dtype=torch.float32), torch.tensor(y_test, dtype=torch.float32))\n",
    "\n",
    "# 데이터 로더 생성\n",
    "train_loader = DataLoader(train_dataset, batch_size=10, shuffle=True)\n",
    "test_loader = DataLoader(test_dataset, batch_size=10, shuffle=False)"
   ]
  },
  {
   "cell_type": "code",
   "execution_count": 22,
   "metadata": {},
   "outputs": [],
   "source": [
    "import torch\n",
    "import torch.nn as nn\n",
    "\n",
    "class LSTMModel(nn.Module):\n",
    "    def __init__(self, input_size, hidden_size, num_layers, output_size, output_sequence_length, dropout_prob=0.5):\n",
    "        super(LSTMModel, self).__init__()\n",
    "        self.hidden_size = hidden_size\n",
    "        self.num_layers = num_layers\n",
    "        self.output_sequence_length = output_sequence_length\n",
    "        self.output_size = output_size\n",
    "\n",
    "        # LSTM 레이어에 dropout 추가\n",
    "        self.lstm = nn.LSTM(input_size, hidden_size, num_layers, batch_first=True, dropout=dropout_prob if num_layers > 1 else 0.0)\n",
    "        \n",
    "        # Dropout 및 ReLU 추가\n",
    "        self.dropout = nn.Dropout(dropout_prob)\n",
    "        self.relu = nn.ReLU()  # ReLU 활성화 함수 추가\n",
    "        self.fc = nn.Linear(hidden_size, output_size * output_sequence_length)\n",
    "\n",
    "    def forward(self, x):\n",
    "        # 초기 hidden state와 cell state 설정 (GPU 사용 가능)\n",
    "        h0 = torch.zeros(self.num_layers, x.size(0), self.hidden_size, device=x.device)\n",
    "        c0 = torch.zeros(self.num_layers, x.size(0), self.hidden_size, device=x.device)\n",
    "\n",
    "        # LSTM을 통해 입력 데이터를 처리\n",
    "        out, (hn, cn) = self.lstm(x, (h0, c0))\n",
    "\n",
    "        # Dropout 적용 (fully connected layer 앞)\n",
    "        out = self.dropout(out[:, -1, :])\n",
    "\n",
    "        # ReLU 활성화 함수 적용\n",
    "        out = self.relu(out)\n",
    "\n",
    "        # Fully connected layer를 통과\n",
    "        out = self.fc(out)\n",
    "\n",
    "        # 출력 형태 조정\n",
    "        out = out.view(-1, self.output_sequence_length, self.output_size)\n",
    "\n",
    "        return out"
   ]
  },
  {
   "cell_type": "code",
   "execution_count": 23,
   "metadata": {},
   "outputs": [],
   "source": [
    "input_size = len(independent_vars)  # 입력 특성 수\n",
    "hidden_size = 128  # LSTM 은닉 상태의 크기\n",
    "num_layers = 2  # LSTM 층 수\n",
    "output_size = 1  # 출력 시퀀스 길이\n",
    "dropout_prob = 0.5\n",
    "\n",
    "device = torch.device(\"cuda\" if torch.cuda.is_available() else \"cpu\")\n",
    "\n",
    "# 모델 인스턴스화\n",
    "model = LSTMModel(input_size, hidden_size, num_layers, output_size, output_sequence_length, dropout_prob).to(device)\n",
    "model = model.float()  # 데이터 타입을 float32로 맞추기\n",
    "\n",
    "# 손실 함수와 옵티마이저\n",
    "criterion = nn.MSELoss()\n",
    "optimizer = Adam(model.parameters(), lr=0.001)"
   ]
  },
  {
   "cell_type": "code",
   "execution_count": 24,
   "metadata": {},
   "outputs": [],
   "source": [
    "def train_model(model, train_loader, criterion, optimizer, num_epochs):\n",
    "    model.train()\n",
    "    for epoch in range(num_epochs):\n",
    "        for inputs, targets in train_loader:\n",
    "            inputs, targets = inputs.to(device), targets.to(device)  # 데이터를 GPU로 전송\n",
    "            optimizer.zero_grad()\n",
    "            outputs = model(inputs)\n",
    "            loss = criterion(outputs, targets)\n",
    "            loss.backward()\n",
    "            optimizer.step()\n",
    "        print(f'Epoch {epoch+1}/{num_epochs}, Loss: {loss.item()}')\n",
    "\n",
    "def evaluate_model(model, test_loader):\n",
    "    model.eval()\n",
    "    total_rmse = 0\n",
    "    total_mape = 0\n",
    "    count = 0\n",
    "    with torch.no_grad():\n",
    "        for inputs, targets in test_loader:\n",
    "            inputs, targets = inputs.to(device), targets.to(device)  # 데이터를 GPU로 전송\n",
    "            outputs = model(inputs)\n",
    "            rmse = torch.sqrt(criterion(outputs, targets))\n",
    "            mape = torch.mean(torch.abs((targets - outputs) / (targets + 1e-8))) * 100\n",
    "            total_rmse += rmse.item()\n",
    "            total_mape += mape.item()\n",
    "            count += 1\n",
    "    print(f'Mean RMSE: {total_rmse/count}, Mean MAPE: {total_mape/count}')"
   ]
  },
  {
   "cell_type": "code",
   "execution_count": 25,
   "metadata": {},
   "outputs": [
    {
     "name": "stdout",
     "output_type": "stream",
     "text": [
      "Epoch 1/50, Loss: 105614.0234375\n",
      "Epoch 2/50, Loss: 19367.232421875\n",
      "Epoch 3/50, Loss: 290.535888671875\n",
      "Epoch 4/50, Loss: 1110.138916015625\n",
      "Epoch 5/50, Loss: 9424.0087890625\n",
      "Epoch 6/50, Loss: 4566.15625\n",
      "Epoch 7/50, Loss: 5245.47216796875\n",
      "Epoch 8/50, Loss: 11697.2900390625\n",
      "Epoch 9/50, Loss: 69.10670471191406\n",
      "Epoch 10/50, Loss: 12820.1259765625\n",
      "Epoch 11/50, Loss: 1900.7113037109375\n",
      "Epoch 12/50, Loss: 5633.17236328125\n",
      "Epoch 13/50, Loss: 6191.29541015625\n",
      "Epoch 14/50, Loss: 13050.533203125\n",
      "Epoch 15/50, Loss: 1884.2027587890625\n",
      "Epoch 16/50, Loss: 5101.75732421875\n",
      "Epoch 17/50, Loss: 11638.7275390625\n",
      "Epoch 18/50, Loss: 645.87548828125\n",
      "Epoch 19/50, Loss: 4630.5634765625\n",
      "Epoch 20/50, Loss: 4082.0341796875\n",
      "Epoch 21/50, Loss: 1062.357421875\n",
      "Epoch 22/50, Loss: 221.24942016601562\n",
      "Epoch 23/50, Loss: 594.9922485351562\n",
      "Epoch 24/50, Loss: 3798.732421875\n",
      "Epoch 25/50, Loss: 137.17674255371094\n",
      "Epoch 26/50, Loss: 10070.55078125\n",
      "Epoch 27/50, Loss: 1930.2845458984375\n",
      "Epoch 28/50, Loss: 5113.763671875\n",
      "Epoch 29/50, Loss: 77.19707489013672\n",
      "Epoch 30/50, Loss: 26.637372970581055\n",
      "Epoch 31/50, Loss: 1872.18994140625\n",
      "Epoch 32/50, Loss: 9170.939453125\n",
      "Epoch 33/50, Loss: 78.51573944091797\n",
      "Epoch 34/50, Loss: 3802.417724609375\n",
      "Epoch 35/50, Loss: 687.4722900390625\n",
      "Epoch 36/50, Loss: 3045.68505859375\n",
      "Epoch 37/50, Loss: 335.7716979980469\n",
      "Epoch 38/50, Loss: 2.869799852371216\n",
      "Epoch 39/50, Loss: 122.38764953613281\n",
      "Epoch 40/50, Loss: 114.9378662109375\n",
      "Epoch 41/50, Loss: 13520.2509765625\n",
      "Epoch 42/50, Loss: 1889.8369140625\n",
      "Epoch 43/50, Loss: 726.3209228515625\n",
      "Epoch 44/50, Loss: 650.8543701171875\n",
      "Epoch 45/50, Loss: 242.22666931152344\n",
      "Epoch 46/50, Loss: 2543.04638671875\n",
      "Epoch 47/50, Loss: 253.5009307861328\n",
      "Epoch 48/50, Loss: 2730.433837890625\n",
      "Epoch 49/50, Loss: 567.012451171875\n",
      "Epoch 50/50, Loss: 5337.65869140625\n"
     ]
    }
   ],
   "source": [
    "train_model(model, train_loader, criterion, optimizer, num_epochs=50)"
   ]
  },
  {
   "cell_type": "code",
   "execution_count": 26,
   "metadata": {},
   "outputs": [
    {
     "name": "stdout",
     "output_type": "stream",
     "text": [
      "Mean RMSE: 24.80205324803994, Mean MAPE: 4.754414080467228\n"
     ]
    }
   ],
   "source": [
    "evaluate_model(model, test_loader)"
   ]
  },
  {
   "cell_type": "code",
   "execution_count": 27,
   "metadata": {},
   "outputs": [],
   "source": [
    "torch.save(model.state_dict(), 'test_lstm_1_1.pth')"
   ]
  }
 ],
 "metadata": {
  "kernelspec": {
   "display_name": "solar",
   "language": "python",
   "name": "python3"
  },
  "language_info": {
   "codemirror_mode": {
    "name": "ipython",
    "version": 3
   },
   "file_extension": ".py",
   "mimetype": "text/x-python",
   "name": "python",
   "nbconvert_exporter": "python",
   "pygments_lexer": "ipython3",
   "version": "3.8.18"
  }
 },
 "nbformat": 4,
 "nbformat_minor": 2
}
