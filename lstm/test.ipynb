{
 "cells": [
  {
   "cell_type": "code",
   "execution_count": 41,
   "metadata": {},
   "outputs": [],
   "source": [
    "import pandas as pd\n",
    "import numpy as np\n",
    "from sklearn.model_selection import train_test_split\n",
    "from sklearn.preprocessing import MinMaxScaler\n",
    "import torch\n",
    "from torch.utils.data import Dataset, DataLoader\n",
    "from torch import nn\n",
    "from torch.optim import Adam\n",
    "import random\n",
    "import matplotlib.pyplot as plt\n",
    "import torch\n",
    "import torch.nn as nn\n",
    "import torch.optim as optim\n",
    "import tensorflow as tf\n",
    "import math\n",
    "from torch.utils.data import TensorDataset, DataLoader\n",
    "\n",
    "# 시드 고정\n",
    "def set_seed(seed):\n",
    "    torch.manual_seed(seed)\n",
    "    torch.cuda.manual_seed(seed)\n",
    "    torch.cuda.manual_seed_all(seed)  # if you are using multi-GPU.\n",
    "    np.random.seed(seed)\n",
    "    random.seed(seed)\n",
    "    torch.backends.cudnn.benchmark = False\n",
    "    torch.backends.cudnn.deterministic = True\n",
    "\n",
    "set_seed(42)"
   ]
  },
  {
   "cell_type": "code",
   "execution_count": 42,
   "metadata": {},
   "outputs": [
    {
     "name": "stderr",
     "output_type": "stream",
     "text": [
      "/tmp/ipykernel_112031/3224682186.py:14: SettingWithCopyWarning: \n",
      "A value is trying to be set on a copy of a slice from a DataFrame.\n",
      "Try using .loc[row_indexer,col_indexer] = value instead\n",
      "\n",
      "See the caveats in the documentation: https://pandas.pydata.org/pandas-docs/stable/user_guide/indexing.html#returning-a-view-versus-a-copy\n",
      "  train_data[independent_vars] = scaler.fit_transform(train_data[independent_vars])\n",
      "/tmp/ipykernel_112031/3224682186.py:15: SettingWithCopyWarning: \n",
      "A value is trying to be set on a copy of a slice from a DataFrame.\n",
      "Try using .loc[row_indexer,col_indexer] = value instead\n",
      "\n",
      "See the caveats in the documentation: https://pandas.pydata.org/pandas-docs/stable/user_guide/indexing.html#returning-a-view-versus-a-copy\n",
      "  test_data[independent_vars] = scaler.transform(test_data[independent_vars])\n"
     ]
    }
   ],
   "source": [
    "data = pd.read_csv('/home/aibig25/hong_sj/trb/num.csv')\n",
    "data = data.fillna(0)\n",
    "\n",
    "unique_ids = data['sequence_ID'].unique()\n",
    "train_ids, test_ids = train_test_split(unique_ids, test_size=41, random_state=42)\n",
    "train_data = data[data['sequence_ID'].isin(train_ids)]\n",
    "test_data = data[data['sequence_ID'].isin(test_ids)]\n",
    "\n",
    "independent_vars = data.columns.difference(['center_x', 'center_y','center_x_ma','center_y_ma', 'ID', 'LC'])\n",
    "dependent_vars = ['center_y_ma']\n",
    "\n",
    "scaler = MinMaxScaler()\n",
    "\n",
    "train_data[independent_vars] = scaler.fit_transform(train_data[independent_vars])\n",
    "test_data[independent_vars] = scaler.transform(test_data[independent_vars])\n",
    "\n",
    "X_train = train_data[independent_vars]\n",
    "y_train = train_data[dependent_vars]\n",
    "\n",
    "X_test = test_data[independent_vars]\n",
    "y_test = test_data[dependent_vars]"
   ]
  },
  {
   "cell_type": "code",
   "execution_count": 43,
   "metadata": {},
   "outputs": [],
   "source": [
    "# 입력 및 예측 시퀀스 길이 정의\n",
    "input_sequence_length = 30\n",
    "output_sequence_length = 30\n",
    "\n",
    "def create_sequences(data, input_sequence_length, output_sequence_length):\n",
    "    X = []\n",
    "    y = []\n",
    "\n",
    "    for i in range(len(data) - input_sequence_length - output_sequence_length + 1):\n",
    "        X.append(data.iloc[i:(i + input_sequence_length)][independent_vars].values)\n",
    "        y.append(data.iloc[(i + input_sequence_length):(i + input_sequence_length + output_sequence_length)][dependent_vars].values)\n",
    "    \n",
    "    return np.array(X), np.array(y)\n",
    "\n",
    "X_train, y_train = create_sequences(train_data, input_sequence_length, output_sequence_length)\n",
    "X_test, y_test = create_sequences(test_data, input_sequence_length, output_sequence_length)"
   ]
  },
  {
   "cell_type": "code",
   "execution_count": 44,
   "metadata": {},
   "outputs": [],
   "source": [
    "# 데이터셋을 텐서로 변환\n",
    "train_dataset = TensorDataset(torch.tensor(X_train, dtype=torch.float32), torch.tensor(y_train, dtype=torch.float32))\n",
    "test_dataset = TensorDataset(torch.tensor(X_test, dtype=torch.float32), torch.tensor(y_test, dtype=torch.float32))\n",
    "\n",
    "# 데이터 로더 생성\n",
    "train_loader = DataLoader(train_dataset, batch_size=10, shuffle=True)\n",
    "test_loader = DataLoader(test_dataset, batch_size=10, shuffle=False)"
   ]
  },
  {
   "cell_type": "code",
   "execution_count": 59,
   "metadata": {},
   "outputs": [],
   "source": [
    "import torch\n",
    "import torch.nn as nn\n",
    "\n",
    "class LSTMModel(nn.Module):\n",
    "    def __init__(self, input_size, hidden_size, num_layers, output_size, output_sequence_length, dropout_prob):\n",
    "        super(LSTMModel, self).__init__()\n",
    "        self.hidden_size = hidden_size\n",
    "        self.num_layers = num_layers\n",
    "        self.lstm = nn.LSTM(input_size, hidden_size, num_layers, batch_first=True)\n",
    "        self.dropout = nn.Dropout(dropout_prob)  # Dropout 레이어 추가\n",
    "        self.fc1 = nn.Linear(hidden_size, hidden_size)  # 중간 FC 레이어 추가\n",
    "        # self.relu = nn.ReLU()  # ReLU 활성화 함수 추가\n",
    "        self.fc2 = nn.Linear(hidden_size, output_size * output_sequence_length)  # 최종 FC 레이어\n",
    "\n",
    "    def forward(self, src, tgt=None):\n",
    "        h0 = torch.zeros(self.num_layers, src.size(0), self.hidden_size, device=src.device)\n",
    "        c0 = torch.zeros(self.num_layers, src.size(0), self.hidden_size, device=src.device)\n",
    "\n",
    "        out, (hn, cn) = self.lstm(src, (h0, c0))\n",
    "        out = self.dropout(out[:, -1, :])\n",
    "        out = self.fc1(out)\n",
    "        # out = self.relu(out)\n",
    "        out = self.fc2(out)\n",
    "        out = out.view(-1, output_sequence_length, output_size)\n",
    "        return out"
   ]
  },
  {
   "cell_type": "code",
   "execution_count": 60,
   "metadata": {},
   "outputs": [],
   "source": [
    "input_size = len(independent_vars)  # 입력 특성 수\n",
    "hidden_size = 512  # LSTM 은닉 상태의 크기\n",
    "num_layers = 3  # LSTM 층 수\n",
    "output_size = 1 \n",
    "dropout_prob = 0.1\n",
    "\n",
    "device = torch.device(\"cuda\" if torch.cuda.is_available() else \"cpu\")\n",
    "\n",
    "# 모델 인스턴스화\n",
    "model = LSTMModel(input_size, hidden_size, num_layers, output_size, output_sequence_length, dropout_prob).to(device)\n",
    "model = model.float()  # 데이터 타입을 float32로 맞추기\n",
    "\n",
    "# 손실 함수와 옵티마이저\n",
    "criterion = nn.MSELoss()\n",
    "optimizer = Adam(model.parameters(), lr=0.001)"
   ]
  },
  {
   "cell_type": "code",
   "execution_count": 61,
   "metadata": {},
   "outputs": [
    {
     "data": {
      "text/plain": [
       "LSTMModel(\n",
       "  (lstm): LSTM(26, 512, num_layers=3, batch_first=True)\n",
       "  (dropout): Dropout(p=0.1, inplace=False)\n",
       "  (fc1): Linear(in_features=512, out_features=512, bias=True)\n",
       "  (fc2): Linear(in_features=512, out_features=30, bias=True)\n",
       ")"
      ]
     },
     "execution_count": 61,
     "metadata": {},
     "output_type": "execute_result"
    }
   ],
   "source": [
    "model.eval()"
   ]
  },
  {
   "cell_type": "code",
   "execution_count": 62,
   "metadata": {},
   "outputs": [],
   "source": [
    "device = torch.device(\"cuda\")\n",
    "model.to(device)\n",
    "\n",
    "def train_model(model, train_loader, optimizer, criterion, epochs):\n",
    "    model.train()  # 모델을 훈련 모드로 설정\n",
    "    for epoch in range(epochs):\n",
    "        total_loss = 0\n",
    "        for src, tgt in train_loader:\n",
    "            src = src.to(device)\n",
    "            tgt = tgt.to(device)\n",
    "            optimizer.zero_grad()\n",
    "\n",
    "            # 모델 출력\n",
    "            output = model(src, tgt)\n",
    "\n",
    "            # 손실 계산을 위한 타겟 데이터 조정\n",
    "            min_length = min(output.size(1), tgt.size(1) - 1)\n",
    "            adjusted_tgt = tgt[:, 1:min_length+1, :]  # output 길이에 맞게 tgt 조정\n",
    "\n",
    "            # 손실 계산\n",
    "            output = output[:, :min_length, :]  # output도 동일한 길이로 조정\n",
    "            loss = criterion(output, adjusted_tgt)\n",
    "            loss.backward()\n",
    "            optimizer.step()\n",
    "            total_loss += loss.item()\n",
    "\n",
    "        average_loss = total_loss / len(train_loader)\n",
    "        print(f'Epoch {epoch+1}/{epochs}, Loss: {average_loss:.4f}')\n",
    "\n",
    "\n",
    "def evaluate_model(model, test_loader):\n",
    "    model.eval()  # 모델을 평가 모드로 설정\n",
    "    total_rmse = 0\n",
    "    total_mape = 0\n",
    "    total_count = 0\n",
    "    \n",
    "    with torch.no_grad():  # 기울기 계산을 중지하여 메모리 사용량과 계산 속도를 개선\n",
    "        for src, tgt in test_loader:\n",
    "            src = src.to(device)\n",
    "            tgt = tgt.to(device)\n",
    "            output = model(src, tgt[:, :-1, :])  # 마지막 타임 스텝을 제외하고 입력\n",
    "            \n",
    "            # 실제 값과 예측 값을 정렬\n",
    "            tgt_actual = tgt[:, 1:, :]  # 첫 타임 스텝을 제외한 실제 값\n",
    "            min_length = min(output.size(1), tgt_actual.size(1))\n",
    "            output = output[:, :min_length, :]\n",
    "            tgt_actual = tgt_actual[:, :min_length, :]\n",
    "            \n",
    "            # RMSE 계산\n",
    "            rmse = torch.sqrt(torch.mean((output - tgt_actual) ** 2))\n",
    "            total_rmse += rmse * output.size(0)  # 배치별 가중치를 더하기\n",
    "            \n",
    "            # MAPE 계산\n",
    "            mape = torch.mean(torch.abs((tgt_actual - output) / tgt_actual)) * 100\n",
    "            total_mape += mape * output.size(0)  # 배치별 가중치를 더하기\n",
    "            \n",
    "            total_count += output.size(0)\n",
    "    \n",
    "    average_rmse = total_rmse / total_count\n",
    "    average_mape = total_mape / total_count\n",
    "    print(f'Final Test RMSE: {average_rmse:.4f}')\n",
    "    print(f'Final Test MAPE: {average_mape:.4f}')"
   ]
  },
  {
   "cell_type": "code",
   "execution_count": 63,
   "metadata": {},
   "outputs": [
    {
     "name": "stdout",
     "output_type": "stream",
     "text": [
      "Epoch 1/50, Loss: 2731.2527\n",
      "Epoch 2/50, Loss: 1365.7049\n",
      "Epoch 3/50, Loss: 1379.1712\n",
      "Epoch 4/50, Loss: 1370.3059\n",
      "Epoch 5/50, Loss: 1365.7967\n",
      "Epoch 6/50, Loss: 1361.9006\n",
      "Epoch 7/50, Loss: 1343.0354\n",
      "Epoch 8/50, Loss: 1337.9465\n",
      "Epoch 9/50, Loss: 1333.0394\n",
      "Epoch 10/50, Loss: 1334.7480\n",
      "Epoch 11/50, Loss: 1327.4986\n",
      "Epoch 12/50, Loss: 1329.5402\n",
      "Epoch 13/50, Loss: 1322.7567\n",
      "Epoch 14/50, Loss: 1325.6450\n",
      "Epoch 15/50, Loss: 1322.2001\n",
      "Epoch 16/50, Loss: 1320.1116\n",
      "Epoch 17/50, Loss: 1316.4087\n",
      "Epoch 18/50, Loss: 1318.4296\n",
      "Epoch 19/50, Loss: 1307.7125\n",
      "Epoch 20/50, Loss: 1315.0563\n",
      "Epoch 21/50, Loss: 1319.5478\n",
      "Epoch 22/50, Loss: 1317.2959\n",
      "Epoch 23/50, Loss: 1309.5585\n",
      "Epoch 24/50, Loss: 1305.8117\n",
      "Epoch 25/50, Loss: 1307.0466\n",
      "Epoch 26/50, Loss: 1306.2000\n",
      "Epoch 27/50, Loss: 1306.3902\n",
      "Epoch 28/50, Loss: 1311.0769\n",
      "Epoch 29/50, Loss: 1307.6081\n",
      "Epoch 30/50, Loss: 1307.7204\n",
      "Epoch 31/50, Loss: 1314.7675\n",
      "Epoch 32/50, Loss: 1310.4591\n",
      "Epoch 33/50, Loss: 1308.3166\n",
      "Epoch 34/50, Loss: 1306.4211\n",
      "Epoch 35/50, Loss: 1304.9279\n",
      "Epoch 36/50, Loss: 1306.1135\n",
      "Epoch 37/50, Loss: 1306.6169\n",
      "Epoch 38/50, Loss: 1301.0504\n",
      "Epoch 39/50, Loss: 1302.1317\n",
      "Epoch 40/50, Loss: 1301.4741\n",
      "Epoch 41/50, Loss: 1309.9926\n",
      "Epoch 42/50, Loss: 1304.2353\n",
      "Epoch 43/50, Loss: 1304.2110\n",
      "Epoch 44/50, Loss: 1299.8136\n",
      "Epoch 45/50, Loss: 1304.7908\n",
      "Epoch 46/50, Loss: 1304.1595\n",
      "Epoch 47/50, Loss: 1300.7769\n",
      "Epoch 48/50, Loss: 1306.8587\n",
      "Epoch 49/50, Loss: 1302.7108\n",
      "Epoch 50/50, Loss: 1303.2882\n"
     ]
    }
   ],
   "source": [
    "train_model(model, train_loader, optimizer, criterion, epochs = 50)"
   ]
  },
  {
   "cell_type": "code",
   "execution_count": 64,
   "metadata": {},
   "outputs": [
    {
     "name": "stdout",
     "output_type": "stream",
     "text": [
      "Final Test RMSE: 26.9232\n",
      "Final Test MAPE: 5.3703\n"
     ]
    }
   ],
   "source": [
    "evaluate_model(model, test_loader)"
   ]
  },
  {
   "cell_type": "code",
   "execution_count": 65,
   "metadata": {},
   "outputs": [],
   "source": [
    "torch.save(model.state_dict(), 'lstm_1_1.pth')"
   ]
  }
 ],
 "metadata": {
  "kernelspec": {
   "display_name": "solar",
   "language": "python",
   "name": "python3"
  },
  "language_info": {
   "codemirror_mode": {
    "name": "ipython",
    "version": 3
   },
   "file_extension": ".py",
   "mimetype": "text/x-python",
   "name": "python",
   "nbconvert_exporter": "python",
   "pygments_lexer": "ipython3",
   "version": "3.8.18"
  }
 },
 "nbformat": 4,
 "nbformat_minor": 2
}
