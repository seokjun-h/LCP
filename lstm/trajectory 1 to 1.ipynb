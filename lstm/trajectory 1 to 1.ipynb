{
 "cells": [
  {
   "cell_type": "code",
   "execution_count": 1,
   "metadata": {},
   "outputs": [],
   "source": [
    "import pandas as pd\n",
    "import numpy as np\n",
    "from sklearn.model_selection import train_test_split\n",
    "from sklearn.preprocessing import MinMaxScaler\n",
    "import torch\n",
    "from torch.utils.data import Dataset, DataLoader\n",
    "from torch import nn\n",
    "from torch.optim import Adam\n",
    "import random\n",
    "import matplotlib.pyplot as plt\n",
    "import torch\n",
    "import torch.nn as nn\n",
    "import torch.optim as optim\n",
    "import tensorflow as tf\n",
    "import math\n",
    "from torch.utils.data import TensorDataset, DataLoader\n",
    "\n",
    "# 시드 고정\n",
    "def set_seed(seed):\n",
    "    torch.manual_seed(seed)\n",
    "    torch.cuda.manual_seed(seed)\n",
    "    torch.cuda.manual_seed_all(seed)  # if you are using multi-GPU.\n",
    "    np.random.seed(seed)\n",
    "    random.seed(seed)\n",
    "    torch.backends.cudnn.benchmark = False\n",
    "    torch.backends.cudnn.deterministic = True\n",
    "\n",
    "set_seed(42)"
   ]
  },
  {
   "cell_type": "code",
   "execution_count": 2,
   "metadata": {},
   "outputs": [
    {
     "name": "stderr",
     "output_type": "stream",
     "text": [
      "/tmp/ipykernel_109308/3224682186.py:14: SettingWithCopyWarning: \n",
      "A value is trying to be set on a copy of a slice from a DataFrame.\n",
      "Try using .loc[row_indexer,col_indexer] = value instead\n",
      "\n",
      "See the caveats in the documentation: https://pandas.pydata.org/pandas-docs/stable/user_guide/indexing.html#returning-a-view-versus-a-copy\n",
      "  train_data[independent_vars] = scaler.fit_transform(train_data[independent_vars])\n",
      "/tmp/ipykernel_109308/3224682186.py:15: SettingWithCopyWarning: \n",
      "A value is trying to be set on a copy of a slice from a DataFrame.\n",
      "Try using .loc[row_indexer,col_indexer] = value instead\n",
      "\n",
      "See the caveats in the documentation: https://pandas.pydata.org/pandas-docs/stable/user_guide/indexing.html#returning-a-view-versus-a-copy\n",
      "  test_data[independent_vars] = scaler.transform(test_data[independent_vars])\n"
     ]
    }
   ],
   "source": [
    "data = pd.read_csv('/home/aibig25/hong_sj/trb/num.csv')\n",
    "data = data.fillna(0)\n",
    "\n",
    "unique_ids = data['sequence_ID'].unique()\n",
    "train_ids, test_ids = train_test_split(unique_ids, test_size=41, random_state=42)\n",
    "train_data = data[data['sequence_ID'].isin(train_ids)]\n",
    "test_data = data[data['sequence_ID'].isin(test_ids)]\n",
    "\n",
    "independent_vars = data.columns.difference(['center_x', 'center_y','center_x_ma','center_y_ma', 'ID', 'LC'])\n",
    "dependent_vars = ['center_y_ma']\n",
    "\n",
    "scaler = MinMaxScaler()\n",
    "\n",
    "train_data[independent_vars] = scaler.fit_transform(train_data[independent_vars])\n",
    "test_data[independent_vars] = scaler.transform(test_data[independent_vars])\n",
    "\n",
    "X_train = train_data[independent_vars]\n",
    "y_train = train_data[dependent_vars]\n",
    "\n",
    "X_test = test_data[independent_vars]\n",
    "y_test = test_data[dependent_vars]"
   ]
  },
  {
   "cell_type": "code",
   "execution_count": 3,
   "metadata": {},
   "outputs": [],
   "source": [
    "# 입력 및 예측 시퀀스 길이 정의\n",
    "input_sequence_length = 30\n",
    "output_sequence_length = 30\n",
    "output_size = 1 \n",
    "\n",
    "def create_sequences(data, input_sequence_length, output_sequence_length):\n",
    "    X = []\n",
    "    y = []\n",
    "\n",
    "    for i in range(len(data) - input_sequence_length - output_sequence_length + 1):\n",
    "        X.append(data.iloc[i:(i + input_sequence_length)][independent_vars].values)\n",
    "        y.append(data.iloc[(i + input_sequence_length):(i + input_sequence_length + output_sequence_length)][dependent_vars].values)\n",
    "    \n",
    "    return np.array(X), np.array(y)\n",
    "\n",
    "X_train, y_train = create_sequences(train_data, input_sequence_length, output_sequence_length)\n",
    "X_test, y_test = create_sequences(test_data, input_sequence_length, output_sequence_length)"
   ]
  },
  {
   "cell_type": "code",
   "execution_count": 4,
   "metadata": {},
   "outputs": [],
   "source": [
    "# 데이터셋을 텐서로 변환\n",
    "train_dataset = TensorDataset(torch.tensor(X_train, dtype=torch.float32), torch.tensor(y_train, dtype=torch.float32))\n",
    "test_dataset = TensorDataset(torch.tensor(X_test, dtype=torch.float32), torch.tensor(y_test, dtype=torch.float32))\n",
    "\n",
    "# 데이터 로더 생성\n",
    "train_loader = DataLoader(train_dataset, batch_size=10, shuffle=True)\n",
    "test_loader = DataLoader(test_dataset, batch_size=10, shuffle=False)"
   ]
  },
  {
   "cell_type": "code",
   "execution_count": 5,
   "metadata": {},
   "outputs": [],
   "source": [
    "# LSTMModel 클래스 정의\n",
    "class LSTMModel(nn.Module):\n",
    "    def __init__(self, input_size, hidden_size, num_layers, output_size):\n",
    "        super(LSTMModel, self).__init__()\n",
    "        self.hidden_size = hidden_size\n",
    "        self.num_layers = num_layers\n",
    "        self.lstm = nn.LSTM(input_size, hidden_size, num_layers, batch_first=True)\n",
    "        self.fc = nn.Linear(hidden_size, output_size * output_sequence_length)\n",
    "\n",
    "    def forward(self, x):\n",
    "        h0 = torch.zeros(self.num_layers, x.size(0), self.hidden_size, device=x.device)  # GPU를 위한 설정\n",
    "        c0 = torch.zeros(self.num_layers, x.size(0), self.hidden_size, device=x.device)  # GPU를 위한 설정\n",
    "        out, (hn, cn) = self.lstm(x, (h0, c0))\n",
    "        out = self.fc(out[:, -1, :])  # 마지막 시간 단계의 출력만 사용\n",
    "        out = out.view(-1, output_sequence_length, output_size)  # 출력 형태 조정\n",
    "        return out"
   ]
  },
  {
   "cell_type": "code",
   "execution_count": 24,
   "metadata": {},
   "outputs": [
    {
     "data": {
      "text/plain": [
       "LSTMModel(\n",
       "  (lstm): LSTM(26, 128, num_layers=2, batch_first=True)\n",
       "  (fc): Linear(in_features=128, out_features=30, bias=True)\n",
       ")"
      ]
     },
     "execution_count": 24,
     "metadata": {},
     "output_type": "execute_result"
    }
   ],
   "source": [
    "# 차량 ID 및 파라미터 설정\n",
    "sequence_id = 148\n",
    "\n",
    "# sequence_ID에 해당하는 데이터 필터링 및 스케일링\n",
    "vehicle_data = data[data['sequence_ID'] == sequence_id].copy()\n",
    "vehicle_data[independent_vars] = scaler.transform(vehicle_data[independent_vars])\n",
    "total_frames = len(vehicle_data)\n",
    "\n",
    "# input_sequence_length와 output_sequence_length를 적용하여 데이터 전처리\n",
    "def create_sequences_for_vehicle(vehicle_data, input_sequence_length, output_sequence_length):\n",
    "    X = []\n",
    "    y = []\n",
    "    \n",
    "    # 마지막 시퀀스까지 처리할 수 있도록 수정\n",
    "    for i in range(len(vehicle_data) - input_sequence_length + 1):\n",
    "        X.append(vehicle_data.iloc[i:(i + input_sequence_length)][independent_vars].values)\n",
    "        if i + input_sequence_length + output_sequence_length <= len(vehicle_data):\n",
    "            y.append(vehicle_data.iloc[(i + input_sequence_length):(i + input_sequence_length + output_sequence_length)][dependent_vars].values)\n",
    "        else:\n",
    "            # 마지막 시퀀스가 output_sequence_length보다 짧으면 0으로 패딩\n",
    "            remaining_length = len(vehicle_data) - (i + input_sequence_length)\n",
    "            last_sequence = vehicle_data.iloc[(i + input_sequence_length):][dependent_vars].values\n",
    "            padded_sequence = np.pad(last_sequence, ((0, output_sequence_length - remaining_length), (0, 0)), mode='constant')\n",
    "            y.append(padded_sequence)\n",
    "    \n",
    "    return np.array(X), np.array(y)\n",
    "\n",
    "X_vehicle, y_vehicle = create_sequences_for_vehicle(vehicle_data, input_sequence_length, output_sequence_length)\n",
    "\n",
    "# 데이터셋을 텐서로 변환\n",
    "vehicle_dataset = TensorDataset(torch.tensor(X_vehicle, dtype=torch.float32), torch.tensor(y_vehicle, dtype=torch.float32))\n",
    "vehicle_loader = DataLoader(vehicle_dataset, batch_size=10, shuffle=False)\n",
    "\n",
    "# 모델 초기화 및 가중치 로드\n",
    "\n",
    "device = torch.device(\"cuda\")\n",
    "\n",
    "model = LSTMModel(input_size=len(independent_vars), hidden_size=128, num_layers=2, output_size=len(dependent_vars)).to(device)\n",
    "model.load_state_dict(torch.load('/home/aibig25/hong_sj/trb/lstm/lstm_1_1.pth'))  # 가중치 파일 경로 수정\n",
    "\n",
    "# 모델을 평가 모드로 설정\n",
    "model.eval()"
   ]
  },
  {
   "cell_type": "code",
   "execution_count": 25,
   "metadata": {},
   "outputs": [
    {
     "data": {
      "image/png": "[encoded data removed]",
      "text/plain": [
       "<Figure size 1200x600 with 1 Axes>"
      ]
     },
     "metadata": {},
     "output_type": "display_data"
    }
   ],
   "source": [
    "# 예측 수행\n",
    "lstm_predictions = []\n",
    "\n",
    "with torch.no_grad():\n",
    "    for X_batch, _ in vehicle_loader:\n",
    "        X_batch = X_batch.to(device)\n",
    "        lstm_outputs = model(X_batch)\n",
    "        lstm_predictions.extend(lstm_outputs.cpu().numpy())\n",
    "\n",
    "# 예측 결과를 배열로 변환\n",
    "lstm_predictions = np.array(lstm_predictions)\n",
    "\n",
    "# 중복된 시점의 예측 값을 평균화\n",
    "def average_predictions(predictions, input_sequence_length, output_sequence_length):\n",
    "    num_predictions = len(predictions) + output_sequence_length - 1\n",
    "    avg_predictions = np.zeros(num_predictions)\n",
    "    counts = np.zeros(num_predictions)\n",
    "\n",
    "    for i, pred in enumerate(predictions):\n",
    "        for j in range(output_sequence_length):\n",
    "            idx = i + input_sequence_length + j  # 첫 30 프레임 이후부터 예측\n",
    "            if idx < num_predictions:  # 배열 크기를 초과하지 않도록 확인\n",
    "                avg_predictions[idx] += pred[j]\n",
    "                counts[idx] += 1\n",
    "\n",
    "    avg_predictions = avg_predictions[input_sequence_length:]\n",
    "    counts = counts[input_sequence_length:]\n",
    "    \n",
    "    avg_predictions /= counts\n",
    "    return avg_predictions\n",
    "\n",
    "# 평균화된 예측 값 계산\n",
    "avg_lstm_predictions = average_predictions(lstm_predictions, input_sequence_length, output_sequence_length)\n",
    "\n",
    "# 마지막 시퀀스에 대한 처리\n",
    "avg_lstm_predictions = avg_lstm_predictions[:total_frames - input_sequence_length]\n",
    "\n",
    "# 시각화: sequence_id 차량에 해당하는 실제 궤적과 예측 궤적 시각화\n",
    "plt.figure(figsize=(12, 6))\n",
    "plt.plot(range(len(vehicle_data)), vehicle_data['center_y_ma'], label='Actual')  # 전체 실제 궤적\n",
    "plt.plot(range(input_sequence_length, input_sequence_length + len(avg_lstm_predictions)), \n",
    "         avg_lstm_predictions, label='Prediction', linestyle='--')\n",
    "plt.xlabel('Time Frame')\n",
    "plt.ylabel('Lateral Position')\n",
    "plt.ylim(400, 570)\n",
    "plt.title(f'Trajectory Predictions for sequence_id: {sequence_id}')\n",
    "plt.legend()\n",
    "plt.show()"
   ]
  }
 ],
 "metadata": {
  "kernelspec": {
   "display_name": "solar",
   "language": "python",
   "name": "python3"
  },
  "language_info": {
   "codemirror_mode": {
    "name": "ipython",
    "version": 3
   },
   "file_extension": ".py",
   "mimetype": "text/x-python",
   "name": "python",
   "nbconvert_exporter": "python",
   "pygments_lexer": "ipython3",
   "version": "3.8.18"
  }
 },
 "nbformat": 4,
 "nbformat_minor": 2
}
