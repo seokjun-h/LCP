{
 "cells": [
  {
   "cell_type": "code",
   "execution_count": 1,
   "metadata": {},
   "outputs": [],
   "source": [
    "import pandas as pd\n",
    "import numpy as np\n",
    "from sklearn.model_selection import train_test_split\n",
    "from sklearn.preprocessing import MinMaxScaler\n",
    "import torch\n",
    "from torch.utils.data import Dataset, DataLoader\n",
    "from torch import nn\n",
    "from torch.optim import Adam\n",
    "import random\n",
    "import matplotlib.pyplot as plt\n",
    "import torch\n",
    "import torch.nn as nn\n",
    "import torch.optim as optim\n",
    "import tensorflow as tf\n",
    "import math\n",
    "from torch.utils.data import TensorDataset, DataLoader\n",
    "\n",
    "# 시드 고정\n",
    "def set_seed(seed):\n",
    "    torch.manual_seed(seed)\n",
    "    torch.cuda.manual_seed(seed)\n",
    "    torch.cuda.manual_seed_all(seed)  # if you are using multi-GPU.\n",
    "    np.random.seed(seed)\n",
    "    random.seed(seed)\n",
    "    torch.backends.cudnn.benchmark = False\n",
    "    torch.backends.cudnn.deterministic = True\n",
    "\n",
    "set_seed(42)"
   ]
  },
  {
   "cell_type": "code",
   "execution_count": 2,
   "metadata": {},
   "outputs": [
    {
     "name": "stderr",
     "output_type": "stream",
     "text": [
      "/tmp/ipykernel_100800/3224682186.py:14: SettingWithCopyWarning: \n",
      "A value is trying to be set on a copy of a slice from a DataFrame.\n",
      "Try using .loc[row_indexer,col_indexer] = value instead\n",
      "\n",
      "See the caveats in the documentation: https://pandas.pydata.org/pandas-docs/stable/user_guide/indexing.html#returning-a-view-versus-a-copy\n",
      "  train_data[independent_vars] = scaler.fit_transform(train_data[independent_vars])\n",
      "/tmp/ipykernel_100800/3224682186.py:15: SettingWithCopyWarning: \n",
      "A value is trying to be set on a copy of a slice from a DataFrame.\n",
      "Try using .loc[row_indexer,col_indexer] = value instead\n",
      "\n",
      "See the caveats in the documentation: https://pandas.pydata.org/pandas-docs/stable/user_guide/indexing.html#returning-a-view-versus-a-copy\n",
      "  test_data[independent_vars] = scaler.transform(test_data[independent_vars])\n"
     ]
    }
   ],
   "source": [
    "data = pd.read_csv('/home/aibig25/hong_sj/trb/num.csv')\n",
    "data = data.fillna(0)\n",
    "\n",
    "unique_ids = data['sequence_ID'].unique()\n",
    "train_ids, test_ids = train_test_split(unique_ids, test_size=41, random_state=42)\n",
    "train_data = data[data['sequence_ID'].isin(train_ids)]\n",
    "test_data = data[data['sequence_ID'].isin(test_ids)]\n",
    "\n",
    "independent_vars = data.columns.difference(['center_x', 'center_y','center_x_ma','center_y_ma', 'ID', 'LC'])\n",
    "dependent_vars = ['center_y_ma']\n",
    "\n",
    "scaler = MinMaxScaler()\n",
    "\n",
    "train_data[independent_vars] = scaler.fit_transform(train_data[independent_vars])\n",
    "test_data[independent_vars] = scaler.transform(test_data[independent_vars])\n",
    "\n",
    "X_train = train_data[independent_vars]\n",
    "y_train = train_data[dependent_vars]\n",
    "\n",
    "X_test = test_data[independent_vars]\n",
    "y_test = test_data[dependent_vars]"
   ]
  },
  {
   "cell_type": "code",
   "execution_count": 3,
   "metadata": {},
   "outputs": [],
   "source": [
    "# 입력 및 예측 시퀀스 길이 정의\n",
    "input_sequence_length = 90\n",
    "output_sequence_length = 60\n",
    "\n",
    "def create_sequences(data, input_sequence_length, output_sequence_length):\n",
    "    X = []\n",
    "    y = []\n",
    "\n",
    "    for i in range(len(data) - input_sequence_length - output_sequence_length + 1):\n",
    "        X.append(data.iloc[i:(i + input_sequence_length)][independent_vars].values)\n",
    "        y.append(data.iloc[(i + input_sequence_length):(i + input_sequence_length + output_sequence_length)][dependent_vars].values)\n",
    "    \n",
    "    return np.array(X), np.array(y)\n",
    "\n",
    "X_train, y_train = create_sequences(train_data, input_sequence_length, output_sequence_length)\n",
    "X_test, y_test = create_sequences(test_data, input_sequence_length, output_sequence_length)"
   ]
  },
  {
   "cell_type": "code",
   "execution_count": 4,
   "metadata": {},
   "outputs": [],
   "source": [
    "# 데이터셋을 텐서로 변환\n",
    "train_dataset = TensorDataset(torch.tensor(X_train, dtype=torch.float32), torch.tensor(y_train, dtype=torch.float32))\n",
    "test_dataset = TensorDataset(torch.tensor(X_test, dtype=torch.float32), torch.tensor(y_test, dtype=torch.float32))\n",
    "\n",
    "# 데이터 로더 생성\n",
    "train_loader = DataLoader(train_dataset, batch_size=10, shuffle=True)\n",
    "test_loader = DataLoader(test_dataset, batch_size=10, shuffle=False)"
   ]
  },
  {
   "cell_type": "code",
   "execution_count": 5,
   "metadata": {},
   "outputs": [],
   "source": [
    "class LSTMModel(nn.Module):\n",
    "    def __init__(self, input_size, hidden_size, num_layers, output_size):\n",
    "        super(LSTMModel, self).__init__()\n",
    "        self.hidden_size = hidden_size\n",
    "        self.num_layers = num_layers\n",
    "        self.lstm = nn.LSTM(input_size, hidden_size, num_layers, batch_first=True)\n",
    "        self.fc = nn.Linear(hidden_size, output_size * output_sequence_length)\n",
    "\n",
    "    def forward(self, x):\n",
    "        h0 = torch.zeros(self.num_layers, x.size(0), self.hidden_size, device=x.device)  # GPU를 위한 설정\n",
    "        c0 = torch.zeros(self.num_layers, x.size(0), self.hidden_size, device=x.device)  # GPU를 위한 설정\n",
    "        out, (hn, cn) = self.lstm(x, (h0, c0))\n",
    "        out = self.fc(out[:, -1, :])  # 마지막 시간 단계의 출력만 사용\n",
    "        out = out.view(-1, output_sequence_length, output_size)  # 출력 형태 조정\n",
    "        return out"
   ]
  },
  {
   "cell_type": "code",
   "execution_count": 6,
   "metadata": {},
   "outputs": [],
   "source": [
    "input_size = len(independent_vars)  # 입력 특성 수\n",
    "hidden_size = 128  # LSTM 은닉 상태의 크기\n",
    "num_layers = 2  # LSTM 층 수\n",
    "output_size = output_sequence_length  # 출력 시퀀스 길이\n",
    "\n",
    "device = torch.device(\"cuda\" if torch.cuda.is_available() else \"cpu\")\n",
    "\n",
    "# 모델 인스턴스화\n",
    "model = LSTMModel(input_size, hidden_size, num_layers, output_size).to(device)\n",
    "model = model.float()  # 데이터 타입을 float32로 맞추기\n",
    "\n",
    "# 손실 함수와 옵티마이저\n",
    "criterion = nn.MSELoss()\n",
    "optimizer = Adam(model.parameters(), lr=0.001)"
   ]
  },
  {
   "cell_type": "code",
   "execution_count": 7,
   "metadata": {},
   "outputs": [],
   "source": [
    "def train_model(model, train_loader, criterion, optimizer, num_epochs):\n",
    "    model.train()\n",
    "    for epoch in range(num_epochs):\n",
    "        for inputs, targets in train_loader:\n",
    "            inputs, targets = inputs.to(device), targets.to(device)  # 데이터를 GPU로 전송\n",
    "            optimizer.zero_grad()\n",
    "            outputs = model(inputs)\n",
    "            loss = criterion(outputs, targets)\n",
    "            loss.backward()\n",
    "            optimizer.step()\n",
    "        print(f'Epoch {epoch+1}/{num_epochs}, Loss: {loss.item()}')\n",
    "\n",
    "def evaluate_model(model, test_loader):\n",
    "    model.eval()\n",
    "    total_rmse = 0\n",
    "    total_mape = 0\n",
    "    count = 0\n",
    "    with torch.no_grad():\n",
    "        for inputs, targets in test_loader:\n",
    "            inputs, targets = inputs.to(device), targets.to(device)  # 데이터를 GPU로 전송\n",
    "            outputs = model(inputs)\n",
    "            rmse = torch.sqrt(criterion(outputs, targets))\n",
    "            mape = torch.mean(torch.abs((targets - outputs) / (targets + 1e-8))) * 100\n",
    "            total_rmse += rmse.item()\n",
    "            total_mape += mape.item()\n",
    "            count += 1\n",
    "    print(f'Mean RMSE: {total_rmse/count}, Mean MAPE: {total_mape/count}')"
   ]
  },
  {
   "cell_type": "code",
   "execution_count": 8,
   "metadata": {},
   "outputs": [
    {
     "name": "stderr",
     "output_type": "stream",
     "text": [
      "/home/aibig25/anaconda3/envs/solar/lib/python3.8/site-packages/torch/nn/modules/loss.py:536: UserWarning: Using a target size (torch.Size([10, 60, 1])) that is different to the input size (torch.Size([10, 60, 60])). This will likely lead to incorrect results due to broadcasting. Please ensure they have the same size.\n",
      "  return F.mse_loss(input, target, reduction=self.reduction)\n",
      "/home/aibig25/anaconda3/envs/solar/lib/python3.8/site-packages/torch/nn/modules/loss.py:536: UserWarning: Using a target size (torch.Size([1, 60, 1])) that is different to the input size (torch.Size([1, 60, 60])). This will likely lead to incorrect results due to broadcasting. Please ensure they have the same size.\n",
      "  return F.mse_loss(input, target, reduction=self.reduction)\n"
     ]
    },
    {
     "name": "stdout",
     "output_type": "stream",
     "text": [
      "Epoch 1/50, Loss: 14174.1728515625\n",
      "Epoch 2/50, Loss: 6088.47705078125\n",
      "Epoch 3/50, Loss: 2730.455078125\n",
      "Epoch 4/50, Loss: 842.2522583007812\n",
      "Epoch 5/50, Loss: 688.5768432617188\n",
      "Epoch 6/50, Loss: 294.5293273925781\n",
      "Epoch 7/50, Loss: 2459.5595703125\n",
      "Epoch 8/50, Loss: 206.93959045410156\n",
      "Epoch 9/50, Loss: 822.55810546875\n",
      "Epoch 10/50, Loss: 717.0003662109375\n",
      "Epoch 11/50, Loss: 8.651049613952637\n",
      "Epoch 12/50, Loss: 306.4707946777344\n",
      "Epoch 13/50, Loss: 2192.1240234375\n",
      "Epoch 14/50, Loss: 598.4693603515625\n",
      "Epoch 15/50, Loss: 1868.768798828125\n",
      "Epoch 16/50, Loss: 241.4690704345703\n",
      "Epoch 17/50, Loss: 1055.7425537109375\n",
      "Epoch 18/50, Loss: 601.8833618164062\n",
      "Epoch 19/50, Loss: 2371.809814453125\n",
      "Epoch 20/50, Loss: 534.00927734375\n",
      "Epoch 21/50, Loss: 2390.277587890625\n",
      "Epoch 22/50, Loss: 162.79490661621094\n",
      "Epoch 23/50, Loss: 28.926448822021484\n",
      "Epoch 24/50, Loss: 537.4203491210938\n",
      "Epoch 25/50, Loss: 701.677490234375\n",
      "Epoch 26/50, Loss: 1015.7090454101562\n",
      "Epoch 27/50, Loss: 1447.33642578125\n",
      "Epoch 28/50, Loss: 20.584611892700195\n",
      "Epoch 29/50, Loss: 891.9609985351562\n",
      "Epoch 30/50, Loss: 270.81103515625\n",
      "Epoch 31/50, Loss: 1567.8818359375\n",
      "Epoch 32/50, Loss: 2150.177001953125\n",
      "Epoch 33/50, Loss: 5827.29443359375\n",
      "Epoch 34/50, Loss: 280.52508544921875\n",
      "Epoch 35/50, Loss: 392.44415283203125\n",
      "Epoch 36/50, Loss: 544.3999633789062\n",
      "Epoch 37/50, Loss: 490.6726379394531\n",
      "Epoch 38/50, Loss: 2577.83984375\n",
      "Epoch 39/50, Loss: 1714.622314453125\n",
      "Epoch 40/50, Loss: 452.88671875\n",
      "Epoch 41/50, Loss: 977.338623046875\n",
      "Epoch 42/50, Loss: 655.0852661132812\n",
      "Epoch 43/50, Loss: 587.8533325195312\n",
      "Epoch 44/50, Loss: 389.3725891113281\n",
      "Epoch 45/50, Loss: 49.50244903564453\n",
      "Epoch 46/50, Loss: 728.0509643554688\n",
      "Epoch 47/50, Loss: 914.6851806640625\n",
      "Epoch 48/50, Loss: 15.36279582977295\n",
      "Epoch 49/50, Loss: 150.15016174316406\n",
      "Epoch 50/50, Loss: 432.1866149902344\n"
     ]
    }
   ],
   "source": [
    "train_model(model, train_loader, criterion, optimizer, num_epochs=50)"
   ]
  },
  {
   "cell_type": "code",
   "execution_count": 9,
   "metadata": {},
   "outputs": [
    {
     "name": "stdout",
     "output_type": "stream",
     "text": [
      "Mean RMSE: 28.193333809175826, Mean MAPE: 5.516990032359434\n"
     ]
    }
   ],
   "source": [
    "evaluate_model(model, test_loader)"
   ]
  }
 ],
 "metadata": {
  "kernelspec": {
   "display_name": "solar",
   "language": "python",
   "name": "python3"
  },
  "language_info": {
   "codemirror_mode": {
    "name": "ipython",
    "version": 3
   },
   "file_extension": ".py",
   "mimetype": "text/x-python",
   "name": "python",
   "nbconvert_exporter": "python",
   "pygments_lexer": "ipython3",
   "version": "3.8.18"
  }
 },
 "nbformat": 4,
 "nbformat_minor": 2
}
